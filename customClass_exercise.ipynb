{
  "nbformat": 4,
  "nbformat_minor": 0,
  "metadata": {
    "colab": {
      "provenance": [],
      "authorship_tag": "ABX9TyMlGpCAPccg1B4gTi6G+uD0",
      "include_colab_link": true
    },
    "kernelspec": {
      "name": "python3",
      "display_name": "Python 3"
    },
    "language_info": {
      "name": "python"
    }
  },
  "cells": [
    {
      "cell_type": "markdown",
      "metadata": {
        "id": "view-in-github",
        "colab_type": "text"
      },
      "source": [
        "<a href=\"https://colab.research.google.com/github/flowmasterB/scientificPython/blob/main/customClass_exercise.ipynb\" target=\"_parent\"><img src=\"https://colab.research.google.com/assets/colab-badge.svg\" alt=\"Open In Colab\"/></a>"
      ]
    },
    {
      "cell_type": "code",
      "execution_count": 21,
      "metadata": {
        "id": "naab0I3oL9-7"
      },
      "outputs": [],
      "source": [
        "class DungeonsDragons(object):\n",
        "  def __init__(self, gameName, WinLoss='won'):\n",
        "    self.ddName = gameName\n",
        "    self.ddLastPlayed = WinLoss\n",
        "\n",
        "  def LastPlay(self, outcome):\n",
        "    self.ddLastPlayed = outcome\n",
        "\n",
        "  def __str__(self):\n",
        "    return 'The outcome of the last time I played ' + self.ddName + 'I ' + self.ddLastPlayed\n"
      ]
    },
    {
      "cell_type": "code",
      "source": [
        "LastPlayed = DungeonsDragons('D&D ')\n",
        "print(LastPlayed)"
      ],
      "metadata": {
        "colab": {
          "base_uri": "https://localhost:8080/"
        },
        "id": "GLByCnZhP69X",
        "outputId": "9dad4a65-d8aa-4ebc-e013-1b783ca6ab9a"
      },
      "execution_count": 22,
      "outputs": [
        {
          "output_type": "stream",
          "name": "stdout",
          "text": [
            "The outcome of the last time I played D&D I won\n"
          ]
        }
      ]
    },
    {
      "cell_type": "code",
      "source": [
        "class BoardGame(object):\n",
        "  def __init__(self, winLoss, plays):\n",
        "    self.didwin = winLoss\n",
        "    self.howmany = plays\n",
        "\n",
        "  def updateWL(self, number):\n",
        "    self.didwin += number\n",
        "\n",
        "  def updateHM(self, number):\n",
        "    self.howmany += number\n",
        "\n",
        "  def __str__(self):\n",
        "    return 'We have played D&D ' + str(self.howmany) + ' times, and we beat the villian ' + str(self.didwin) + ' times.'"
      ],
      "metadata": {
        "id": "DIL7LROUQU-3"
      },
      "execution_count": 23,
      "outputs": []
    },
    {
      "cell_type": "code",
      "source": [
        "UpdateGame = BoardGame(35, 27)\n",
        "print(UpdateGame)"
      ],
      "metadata": {
        "colab": {
          "base_uri": "https://localhost:8080/"
        },
        "id": "1-nXC_6AScLV",
        "outputId": "4aabe03d-f46c-451e-8a6f-b6ae44e4c870"
      },
      "execution_count": 24,
      "outputs": [
        {
          "output_type": "stream",
          "name": "stdout",
          "text": [
            "We have played D&D 27 times, and we beat the villian 35 times.\n"
          ]
        }
      ]
    },
    {
      "cell_type": "code",
      "source": [],
      "metadata": {
        "id": "XZJKsjmDStMc"
      },
      "execution_count": 24,
      "outputs": []
    }
  ]
}