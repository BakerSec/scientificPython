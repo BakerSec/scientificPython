{
  "nbformat": 4,
  "nbformat_minor": 0,
  "metadata": {
    "colab": {
      "provenance": []
    },
    "kernelspec": {
      "name": "python3",
      "display_name": "Python 3"
    },
    "language_info": {
      "name": "python"
    }
  },
  "cells": [
    {
      "cell_type": "code",
      "execution_count": 6,
      "metadata": {
        "colab": {
          "base_uri": "https://localhost:8080/"
        },
        "id": "fb8TKXT7fAwi",
        "outputId": "2b6c4002-a1b7-41b3-873c-e8d9a98d3036"
      },
      "outputs": [
        {
          "output_type": "stream",
          "name": "stdout",
          "text": [
            "No variables match your requested type.\n"
          ]
        },
        {
          "output_type": "execute_result",
          "data": {
            "text/plain": [
              "False"
            ]
          },
          "metadata": {},
          "execution_count": 6
        }
      ],
      "source": [
        "# Boolean or logical --- true false --- one or the other\n",
        "\n",
        "boolTrue = True # actual boolean value\n",
        "strTrue  = 'True' # a string value of the string True\n",
        "\n",
        "%whos # we can compare the data types for ourselves to forecast our answer ** check the data types\n",
        "\n",
        "boolTrue == strTrue # we can use the \"is it equal?\" aka == to compare the 2 values ** not an assignment like ="
      ]
    },
    {
      "cell_type": "code",
      "source": [
        "4 == 4 # we see that when we compare 4 to 4 -- we see that it is True\n"
      ],
      "metadata": {
        "colab": {
          "base_uri": "https://localhost:8080/"
        },
        "id": "gOWtnnvCfzuz",
        "outputId": "7c85cbd4-02a7-40b0-88eb-073056af9192"
      },
      "execution_count": 9,
      "outputs": [
        {
          "output_type": "execute_result",
          "data": {
            "text/plain": [
              "True"
            ]
          },
          "metadata": {},
          "execution_count": 9
        }
      ]
    },
    {
      "cell_type": "code",
      "source": [
        "# even more comparison methods\n",
        "4 > 5"
      ],
      "metadata": {
        "colab": {
          "base_uri": "https://localhost:8080/"
        },
        "id": "olV9hmMw38uA",
        "outputId": "34cd2ca9-82d5-44e5-e9ba-7c1acc0967ab"
      },
      "execution_count": 10,
      "outputs": [
        {
          "output_type": "execute_result",
          "data": {
            "text/plain": [
              "False"
            ]
          },
          "metadata": {},
          "execution_count": 10
        }
      ]
    },
    {
      "cell_type": "code",
      "source": [
        "# less than or equal to  --- one or the other instance >=\n",
        "4 <= 5"
      ],
      "metadata": {
        "colab": {
          "base_uri": "https://localhost:8080/"
        },
        "id": "4fmXKy4IR7Xh",
        "outputId": "8ac8cacc-4992-4cac-a5e1-9d07e22bb743"
      },
      "execution_count": 12,
      "outputs": [
        {
          "output_type": "execute_result",
          "data": {
            "text/plain": [
              "True"
            ]
          },
          "metadata": {},
          "execution_count": 12
        }
      ]
    },
    {
      "cell_type": "code",
      "source": [
        "4 != 5 # does not equal"
      ],
      "metadata": {
        "colab": {
          "base_uri": "https://localhost:8080/"
        },
        "id": "UT371PsVR9Qz",
        "outputId": "aab7221e-0dca-4c5f-8936-8dd683cad522"
      },
      "execution_count": 13,
      "outputs": [
        {
          "output_type": "execute_result",
          "data": {
            "text/plain": [
              "True"
            ]
          },
          "metadata": {},
          "execution_count": 13
        }
      ]
    },
    {
      "cell_type": "code",
      "source": [
        "a = 8\n",
        "b = 4\n",
        "\n",
        "outcome = a == b * 2\n",
        "outcome"
      ],
      "metadata": {
        "colab": {
          "base_uri": "https://localhost:8080/"
        },
        "id": "U1SK-RHpSg4A",
        "outputId": "8612ae0b-b2e2-4ca5-cb9e-df2356be3f5a"
      },
      "execution_count": 18,
      "outputs": [
        {
          "output_type": "execute_result",
          "data": {
            "text/plain": [
              "True"
            ]
          },
          "metadata": {},
          "execution_count": 18
        }
      ]
    },
    {
      "cell_type": "code",
      "source": [
        "# conjunctive comparisons\n",
        "14>5 and 7<10 # both have to be true to be true"
      ],
      "metadata": {
        "colab": {
          "base_uri": "https://localhost:8080/"
        },
        "id": "UgLm8CLMS8jQ",
        "outputId": "7a2bf86b-11f0-41d5-cd18-05134dd765c6"
      },
      "execution_count": 20,
      "outputs": [
        {
          "output_type": "execute_result",
          "data": {
            "text/plain": [
              "True"
            ]
          },
          "metadata": {},
          "execution_count": 20
        }
      ]
    },
    {
      "cell_type": "code",
      "source": [
        "14>5 and 7>10"
      ],
      "metadata": {
        "colab": {
          "base_uri": "https://localhost:8080/"
        },
        "id": "je4tVkjNTqhS",
        "outputId": "7b3a687f-74e8-405d-eed4-decc3ee20ad6"
      },
      "execution_count": 21,
      "outputs": [
        {
          "output_type": "execute_result",
          "data": {
            "text/plain": [
              "False"
            ]
          },
          "metadata": {},
          "execution_count": 21
        }
      ]
    },
    {
      "cell_type": "code",
      "source": [
        "16<4 or 8==8 # only one has to be true to be true - false only when both false"
      ],
      "metadata": {
        "colab": {
          "base_uri": "https://localhost:8080/"
        },
        "id": "T7Jx-vN3Tu_T",
        "outputId": "0e23a059-9740-4733-fb2e-4d0101205f4d"
      },
      "execution_count": 23,
      "outputs": [
        {
          "output_type": "execute_result",
          "data": {
            "text/plain": [
              "True"
            ]
          },
          "metadata": {},
          "execution_count": 23
        }
      ]
    },
    {
      "cell_type": "code",
      "source": [
        "# how to convert data types to a boolean\n",
        "bool(0) # zero is the only number that gets converted to false -- all other numbers return true"
      ],
      "metadata": {
        "colab": {
          "base_uri": "https://localhost:8080/"
        },
        "id": "LKQgEdKLUI7b",
        "outputId": "6f50f693-8b3b-45f2-c744-bf8d5fb38487"
      },
      "execution_count": 25,
      "outputs": [
        {
          "output_type": "execute_result",
          "data": {
            "text/plain": [
              "False"
            ]
          },
          "metadata": {},
          "execution_count": 25
        }
      ]
    },
    {
      "cell_type": "code",
      "source": [
        "bool(-10)"
      ],
      "metadata": {
        "colab": {
          "base_uri": "https://localhost:8080/"
        },
        "id": "JV3CLWgHUkXM",
        "outputId": "c819c139-55db-4804-cf4b-18b12e6a5210"
      },
      "execution_count": 27,
      "outputs": [
        {
          "output_type": "execute_result",
          "data": {
            "text/plain": [
              "True"
            ]
          },
          "metadata": {},
          "execution_count": 27
        }
      ]
    },
    {
      "cell_type": "code",
      "source": [
        "bool(45897345.098934673423462467)"
      ],
      "metadata": {
        "colab": {
          "base_uri": "https://localhost:8080/"
        },
        "id": "Yca5kGUyUn5L",
        "outputId": "fd42c60a-9f67-4c40-b701-baf7a5520cef"
      },
      "execution_count": 30,
      "outputs": [
        {
          "output_type": "execute_result",
          "data": {
            "text/plain": [
              "True"
            ]
          },
          "metadata": {},
          "execution_count": 30
        }
      ]
    },
    {
      "cell_type": "code",
      "source": [
        "# you get the idea\n",
        "# now string values -- similar to numbers\n",
        "bool('flowmasterB is so cool.')"
      ],
      "metadata": {
        "colab": {
          "base_uri": "https://localhost:8080/"
        },
        "id": "6zk4OWrQU-01",
        "outputId": "a0c8e3aa-bbb4-49b9-e1a4-4d61e102c047"
      },
      "execution_count": 31,
      "outputs": [
        {
          "output_type": "execute_result",
          "data": {
            "text/plain": [
              "True"
            ]
          },
          "metadata": {},
          "execution_count": 31
        }
      ]
    },
    {
      "cell_type": "code",
      "source": [
        "bool('Nickelback sucks!') ## anything inputed down to the minimal of one space ** an empty will return"
      ],
      "metadata": {
        "colab": {
          "base_uri": "https://localhost:8080/"
        },
        "id": "Ilddk6xDVhdo",
        "outputId": "92d89694-8cf5-40eb-f03a-23380b2e16f2"
      },
      "execution_count": 32,
      "outputs": [
        {
          "output_type": "execute_result",
          "data": {
            "text/plain": [
              "True"
            ]
          },
          "metadata": {},
          "execution_count": 32
        }
      ]
    },
    {
      "cell_type": "code",
      "source": [
        "bool(' ') # there is a space"
      ],
      "metadata": {
        "colab": {
          "base_uri": "https://localhost:8080/"
        },
        "id": "G6YTAEcwVopx",
        "outputId": "f7cfa8e0-a898-43a1-dac0-ca5d4c3c97a9"
      },
      "execution_count": 33,
      "outputs": [
        {
          "output_type": "execute_result",
          "data": {
            "text/plain": [
              "True"
            ]
          },
          "metadata": {},
          "execution_count": 33
        }
      ]
    },
    {
      "cell_type": "code",
      "source": [
        "bool('') # no space -- considered a non value, nil, naught, null, void ... what have you"
      ],
      "metadata": {
        "colab": {
          "base_uri": "https://localhost:8080/"
        },
        "id": "GDGuZEmnVroK",
        "outputId": "ffdbe6de-865b-49a6-9036-abba77930d9b"
      },
      "execution_count": 35,
      "outputs": [
        {
          "output_type": "execute_result",
          "data": {
            "text/plain": [
              "False"
            ]
          },
          "metadata": {},
          "execution_count": 35
        }
      ]
    },
    {
      "cell_type": "code",
      "source": [
        "# Exercise\n",
        "# Ask the user for input and test whether it is a real triplet or not.\n",
        "# 3,4,5  5,12,13  answer must be true or false i.e return user's answer with \"Your answer is True/False\"\n",
        "# 3 consectutive positive integers such that a**2 + b**2 = c**2\n",
        "\n",
        "# 1st - print instructions to user\n",
        "print(\"Please choose a pythagorean triplet series\")\n",
        "\n",
        "# 2nd - collect the input from the user\n",
        "\n",
        "a = float(input('Please input length of a: '))\n",
        "b = float(input('Please input length of b: '))\n",
        "c = float(input('Please input length of c: '))\n",
        "\n",
        "# 3rd give user some additional info\n",
        "print('I will tell you if you are correct or not')\n",
        "print( '' )\n",
        "\n",
        "# 4th -- run a comparison on the collected user input\n",
        "isATriplet = a**2 + b**2 == c**2\n",
        "\n",
        "# 5th - return the result of the comparison as a boolean value\n",
        "print('Your answer is ' + str(isATriplet) + '!!')\n"
      ],
      "metadata": {
        "colab": {
          "base_uri": "https://localhost:8080/"
        },
        "id": "XpO4ry4QVuj2",
        "outputId": "d0cbbe37-84b7-41b1-bece-d0a7752172f3"
      },
      "execution_count": 40,
      "outputs": [
        {
          "output_type": "stream",
          "name": "stdout",
          "text": [
            "Please choose a pythagorean triplet series\n",
            "Please input length of a: 3\n",
            "Please input length of b: 4\n",
            "Please input length of c: 5\n",
            "I will tell you if you are correct or not\n",
            "\n",
            "Your answer is True!!\n"
          ]
        }
      ]
    }
  ]
}