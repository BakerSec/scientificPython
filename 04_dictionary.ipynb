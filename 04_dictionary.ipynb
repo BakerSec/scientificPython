{
  "nbformat": 4,
  "nbformat_minor": 0,
  "metadata": {
    "colab": {
      "provenance": [],
      "authorship_tag": "ABX9TyPgMK5qud+W8Ypvru6qxRzP",
      "include_colab_link": true
    },
    "kernelspec": {
      "name": "python3",
      "display_name": "Python 3"
    },
    "language_info": {
      "name": "python"
    }
  },
  "cells": [
    {
      "cell_type": "markdown",
      "metadata": {
        "id": "view-in-github",
        "colab_type": "text"
      },
      "source": [
        "<a href=\"https://colab.research.google.com/github/flowmasterB/scientificPython/blob/main/04_dictionary.ipynb\" target=\"_parent\"><img src=\"https://colab.research.google.com/assets/colab-badge.svg\" alt=\"Open In Colab\"/></a>"
      ]
    },
    {
      "cell_type": "markdown",
      "source": [
        "# I went through Mike Cohen's scientific python course\n",
        "# (modified from the original) and will walk you through it -- or you can sign up here:\n",
        "https://www.udemy.com/course/python-scientific-x/learn/lecture/21804570#overview"
      ],
      "metadata": {
        "id": "butgTQnJt86H"
      }
    },
    {
      "cell_type": "code",
      "source": [
        "# Dictionary\n",
        "D = dict()\n",
        "D"
      ],
      "metadata": {
        "colab": {
          "base_uri": "https://localhost:8080/"
        },
        "id": "ojWnxN-zKmGm",
        "outputId": "5beca4d5-002f-4819-8bc0-f5806a22c561"
      },
      "execution_count": 33,
      "outputs": [
        {
          "output_type": "execute_result",
          "data": {
            "text/plain": [
              "{}"
            ]
          },
          "metadata": {},
          "execution_count": 33
        }
      ]
    },
    {
      "cell_type": "code",
      "source": [
        "# key value pair\n",
        "D['name'] = 'Baker'\n",
        "D['AgeRange'] = [45,60]\n",
        "\n",
        "D"
      ],
      "metadata": {
        "colab": {
          "base_uri": "https://localhost:8080/"
        },
        "id": "maoThvQzLCrF",
        "outputId": "db37b7e6-caed-4a0c-c7dc-77a7595bc15d"
      },
      "execution_count": 34,
      "outputs": [
        {
          "output_type": "execute_result",
          "data": {
            "text/plain": [
              "{'name': 'Baker', 'AgeRange': [45, 60]}"
            ]
          },
          "metadata": {},
          "execution_count": 34
        }
      ]
    },
    {
      "cell_type": "code",
      "source": [
        "E = { 'name':'Baker', 'AgeRange': '[45, 60]' } # another way to create dictionary\n",
        "\n",
        "E"
      ],
      "metadata": {
        "colab": {
          "base_uri": "https://localhost:8080/"
        },
        "id": "LJtXLbEeL033",
        "outputId": "f7f39672-8aec-4a34-f246-ba2a49462de2"
      },
      "execution_count": 35,
      "outputs": [
        {
          "output_type": "execute_result",
          "data": {
            "text/plain": [
              "{'name': 'Baker', 'AgeRange': '[45, 60]'}"
            ]
          },
          "metadata": {},
          "execution_count": 35
        }
      ]
    },
    {
      "cell_type": "code",
      "source": [
        "# get data from dictionary\n",
        "D['name']"
      ],
      "metadata": {
        "colab": {
          "base_uri": "https://localhost:8080/",
          "height": 40
        },
        "id": "8-2vx3OqMWKM",
        "outputId": "9de127ee-c8e3-41d6-9b4a-4774e52c2bc2"
      },
      "execution_count": 36,
      "outputs": [
        {
          "output_type": "execute_result",
          "data": {
            "text/plain": [
              "'Baker'"
            ],
            "application/vnd.google.colaboratory.intrinsic+json": {
              "type": "string"
            }
          },
          "metadata": {},
          "execution_count": 36
        }
      ]
    },
    {
      "cell_type": "code",
      "source": [
        "D.keys() # display our keys"
      ],
      "metadata": {
        "colab": {
          "base_uri": "https://localhost:8080/"
        },
        "id": "1vY4JUL3Mkt0",
        "outputId": "ad9dbcd0-e496-46fb-8ee1-beb95ee11a34"
      },
      "execution_count": 37,
      "outputs": [
        {
          "output_type": "execute_result",
          "data": {
            "text/plain": [
              "dict_keys(['name', 'AgeRange'])"
            ]
          },
          "metadata": {},
          "execution_count": 37
        }
      ]
    },
    {
      "cell_type": "code",
      "source": [
        "'name' in D # it is a key value returns True"
      ],
      "metadata": {
        "colab": {
          "base_uri": "https://localhost:8080/"
        },
        "id": "Fo1FzRuoM7nQ",
        "outputId": "40bd94db-e191-4b99-9669-091432f5ecba"
      },
      "execution_count": 38,
      "outputs": [
        {
          "output_type": "execute_result",
          "data": {
            "text/plain": [
              "True"
            ]
          },
          "metadata": {},
          "execution_count": 38
        }
      ]
    },
    {
      "cell_type": "code",
      "source": [
        "'Baker' not in D # this value is not there it is not a key value"
      ],
      "metadata": {
        "colab": {
          "base_uri": "https://localhost:8080/"
        },
        "id": "f4OFy5udNObw",
        "outputId": "cf58d6db-8cd4-4da3-9a17-1cd15c25a8ea"
      },
      "execution_count": 39,
      "outputs": [
        {
          "output_type": "execute_result",
          "data": {
            "text/plain": [
              "True"
            ]
          },
          "metadata": {},
          "execution_count": 39
        }
      ]
    },
    {
      "cell_type": "code",
      "source": [
        "D.values() # displays the values"
      ],
      "metadata": {
        "colab": {
          "base_uri": "https://localhost:8080/"
        },
        "id": "GlT_bL2SNbOD",
        "outputId": "a3faca34-6bed-4e6d-967b-5ddc2dcf1965"
      },
      "execution_count": 40,
      "outputs": [
        {
          "output_type": "execute_result",
          "data": {
            "text/plain": [
              "dict_values(['Baker', [45, 60]])"
            ]
          },
          "metadata": {},
          "execution_count": 40
        }
      ]
    },
    {
      "cell_type": "code",
      "source": [
        "D.items()"
      ],
      "metadata": {
        "colab": {
          "base_uri": "https://localhost:8080/"
        },
        "id": "pMBCjnFANh6U",
        "outputId": "544c871b-ca1c-496d-8e47-dba8f3d95838"
      },
      "execution_count": 41,
      "outputs": [
        {
          "output_type": "execute_result",
          "data": {
            "text/plain": [
              "dict_items([('name', 'Baker'), ('AgeRange', [45, 60])])"
            ]
          },
          "metadata": {},
          "execution_count": 41
        }
      ]
    },
    {
      "cell_type": "code",
      "source": [
        "# Exercise: user inputs 2 numbers and you return the product all using a dictionary\n",
        "# using key pairs of 'firstNum', 'secondNum', and 'product' -- the answer is below\n",
        "\n",
        "\n",
        "\n",
        "\n",
        "\n",
        "\n",
        "\n",
        "\n",
        "\n",
        "\n",
        "\n",
        "\n",
        "\n",
        "\n",
        "\n",
        "\n",
        "\n",
        "del D # rids earlier value up to this point\n",
        "\n",
        "D = dict()\n",
        "\n",
        "num1 = float( input('Please provide one number: ') )\n",
        "D['firstNum'] = num1\n",
        "\n",
        "num2 = float( input('Please provide another number: ') )\n",
        "D['secondNum'] = num2\n",
        "\n",
        "D['product'] = num1*num2\n",
        "\n",
        "D.items()"
      ],
      "metadata": {
        "colab": {
          "base_uri": "https://localhost:8080/"
        },
        "id": "DNq5j51nZ_pI",
        "outputId": "70f29ec3-5505-49af-f7a0-5360834063df"
      },
      "execution_count": 83,
      "outputs": [
        {
          "name": "stdout",
          "output_type": "stream",
          "text": [
            "Please provide one number: 6792346\n",
            "Please provide another number: 612345\n"
          ]
        },
        {
          "output_type": "execute_result",
          "data": {
            "text/plain": [
              "dict_items([('firstNum', 6792346.0), ('secondNum', 612345.0), ('product', 4159259111370.0)])"
            ]
          },
          "metadata": {},
          "execution_count": 83
        }
      ]
    }
  ]
}