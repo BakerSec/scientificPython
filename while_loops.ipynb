{
  "nbformat": 4,
  "nbformat_minor": 0,
  "metadata": {
    "colab": {
      "provenance": [],
      "authorship_tag": "ABX9TyN2yPDWEf+Qsdb4NPVm10Fd",
      "include_colab_link": true
    },
    "kernelspec": {
      "name": "python3",
      "display_name": "Python 3"
    },
    "language_info": {
      "name": "python"
    }
  },
  "cells": [
    {
      "cell_type": "markdown",
      "metadata": {
        "id": "view-in-github",
        "colab_type": "text"
      },
      "source": [
        "<a href=\"https://colab.research.google.com/github/flowmasterB/scientificPython/blob/main/while_loops.ipynb\" target=\"_parent\"><img src=\"https://colab.research.google.com/assets/colab-badge.svg\" alt=\"Open In Colab\"/></a>"
      ]
    },
    {
      "cell_type": "code",
      "execution_count": 5,
      "metadata": {
        "colab": {
          "base_uri": "https://localhost:8080/"
        },
        "id": "y0pmITd7425e",
        "outputId": "11c2b601-e37d-448d-f0e2-6b57b26e427c"
      },
      "outputs": [
        {
          "output_type": "stream",
          "name": "stdout",
          "text": [
            "0\n",
            "1\n",
            "2\n",
            "3\n",
            "4\n",
            "5\n",
            "6\n",
            "7\n"
          ]
        }
      ],
      "source": [
        "# while loops\n",
        "\n",
        "toggle = True\n",
        "i = 0\n",
        "\n",
        "while toggle:\n",
        "  print(i)\n",
        "  i += 1\n",
        "\n",
        "  if i==8:\n",
        "    toggle=False"
      ]
    },
    {
      "cell_type": "code",
      "source": [
        "i = 0\n",
        "while True:\n",
        "  print(i+1)\n",
        "  i += 1\n",
        "  if i==8:\n",
        "    break"
      ],
      "metadata": {
        "colab": {
          "base_uri": "https://localhost:8080/"
        },
        "id": "vGFDxvueNKNO",
        "outputId": "fddaba72-5c83-4f5a-cc23-bef29eac3b54"
      },
      "execution_count": 7,
      "outputs": [
        {
          "output_type": "stream",
          "name": "stdout",
          "text": [
            "1\n",
            "2\n",
            "3\n",
            "4\n",
            "5\n",
            "6\n",
            "7\n",
            "8\n"
          ]
        }
      ]
    },
    {
      "cell_type": "code",
      "source": [
        "i = 0\n",
        "while i<8:\n",
        "  print(i+1)\n",
        "  i += 1"
      ],
      "metadata": {
        "colab": {
          "base_uri": "https://localhost:8080/"
        },
        "id": "Bcmtd49bOncU",
        "outputId": "8866ce75-d8f7-4f31-8264-f2235e855100"
      },
      "execution_count": 8,
      "outputs": [
        {
          "output_type": "stream",
          "name": "stdout",
          "text": [
            "1\n",
            "2\n",
            "3\n",
            "4\n",
            "5\n",
            "6\n",
            "7\n",
            "8\n"
          ]
        }
      ]
    },
    {
      "cell_type": "code",
      "source": [
        "# for loop -- prefer in advance how many iterations needed\n",
        "# while is preffered when it is arbitrary the number of iterations\n",
        "\n",
        "import numpy as np\n",
        "\n",
        "def poissonCounter(lam):\n",
        "\n",
        "  # intitialize variables\n",
        "  counter, currval = 0,1\n",
        "  target = np.exp(-lam)\n",
        "\n",
        "  # run algorithm\n",
        "  while currval>target:\n",
        "    counter += 1\n",
        "    currval *= np.random.rand()\n",
        "\n",
        "  # return the result\n",
        "  return counter\n"
      ],
      "metadata": {
        "id": "wmiDVOHCO4Kd"
      },
      "execution_count": 21,
      "outputs": []
    },
    {
      "cell_type": "code",
      "source": [
        "p = np.zeros(100)\n",
        "\n",
        "for i in range(100):\n",
        "  p[i] = poissonCounter(10)\n",
        "\n",
        "p"
      ],
      "metadata": {
        "colab": {
          "base_uri": "https://localhost:8080/"
        },
        "id": "EA-wQLkTQhDq",
        "outputId": "533666f2-2d79-4e03-f7cd-9fdd8ed2b124"
      },
      "execution_count": 23,
      "outputs": [
        {
          "output_type": "execute_result",
          "data": {
            "text/plain": [
              "array([13.,  8., 13., 11., 13., 11.,  7., 12., 10., 10., 14., 13.,  9.,\n",
              "        4.,  8.,  6., 13., 15.,  8., 11., 12., 11.,  8., 14.,  9., 10.,\n",
              "       10., 14., 11.,  9., 10., 11., 10., 12., 10., 10.,  5., 13., 15.,\n",
              "        8., 11., 16., 10., 13.,  9., 11., 10., 12.,  9., 10., 10.,  8.,\n",
              "        5.,  8.,  5., 10., 10., 11., 15., 12., 17.,  9.,  7., 11., 14.,\n",
              "       16.,  9., 11., 15., 13., 10.,  8.,  8.,  8., 12., 13., 13., 11.,\n",
              "        8., 13.,  9.,  8.,  9., 10., 13.,  9.,  7.,  7., 10., 13., 11.,\n",
              "       12., 11., 11., 12., 10., 17., 15.,  9., 12.])"
            ]
          },
          "metadata": {},
          "execution_count": 23
        }
      ]
    },
    {
      "cell_type": "code",
      "source": [],
      "metadata": {
        "id": "_v00oH2QQ_2n"
      },
      "execution_count": null,
      "outputs": []
    }
  ]
}