{
  "nbformat": 4,
  "nbformat_minor": 0,
  "metadata": {
    "colab": {
      "provenance": []
    },
    "kernelspec": {
      "name": "python3",
      "display_name": "Python 3"
    },
    "language_info": {
      "name": "python"
    }
  },
  "cells": [
    {
      "cell_type": "code",
      "execution_count": null,
      "metadata": {
        "colab": {
          "base_uri": "https://localhost:8080/",
          "height": 370
        },
        "id": "pSxTAFyeUItG",
        "outputId": "e5795781-c0db-4a3a-af50-284cdbe8f751"
      },
      "outputs": [
        {
          "output_type": "stream",
          "name": "stdout",
          "text": [
            "[3, 4, '6']\n",
            "[6, 4, '6']\n"
          ]
        },
        {
          "output_type": "error",
          "ename": "TypeError",
          "evalue": "ignored",
          "traceback": [
            "\u001b[0;31m---------------------------------------------------------------------------\u001b[0m",
            "\u001b[0;31mTypeError\u001b[0m                                 Traceback (most recent call last)",
            "\u001b[0;32m<ipython-input-28-7cca03db88b9>\u001b[0m in \u001b[0;36m<cell line: 11>\u001b[0;34m()\u001b[0m\n\u001b[1;32m      9\u001b[0m \u001b[0mprint\u001b[0m\u001b[0;34m(\u001b[0m\u001b[0maList\u001b[0m\u001b[0;34m)\u001b[0m\u001b[0;34m\u001b[0m\u001b[0;34m\u001b[0m\u001b[0m\n\u001b[1;32m     10\u001b[0m \u001b[0;34m\u001b[0m\u001b[0m\n\u001b[0;32m---> 11\u001b[0;31m \u001b[0matuple\u001b[0m\u001b[0;34m[\u001b[0m\u001b[0;36m1\u001b[0m\u001b[0;34m]\u001b[0m \u001b[0;34m=\u001b[0m \u001b[0;36m9\u001b[0m \u001b[0;31m# the only way to mod would be change all elements ie. atuple = ( 6,'9',7 ) cant do just 1 element\u001b[0m\u001b[0;34m\u001b[0m\u001b[0;34m\u001b[0m\u001b[0m\n\u001b[0m\u001b[1;32m     12\u001b[0m \u001b[0mprint\u001b[0m\u001b[0;34m(\u001b[0m\u001b[0matuple\u001b[0m\u001b[0;34m)\u001b[0m\u001b[0;34m\u001b[0m\u001b[0;34m\u001b[0m\u001b[0m\n",
            "\u001b[0;31mTypeError\u001b[0m: 'tuple' object does not support item assignment"
          ]
        }
      ],
      "source": [
        "# a tuple is an immutable list -- lists are mutable (they can change vales aftyer assignment)\n",
        "\n",
        "aList  = [ 3,4,'6' ]\n",
        "atuple = ( 3,'4',45 )\n",
        "\n",
        "print(aList)\n",
        "\n",
        "aList[0] = 6 # the zero indicates the index number index order starts with 0 [ 0, 1, 2, 3] 0 1st, 1 2nd, 2 , so on\n",
        "print(aList)\n",
        "\n",
        "atuple[1] = 9 # the only way to mod would be change all elements ie. atuple = ( 6,'9',7 ) cant do just 1 element\n",
        "print(atuple)\n"
      ]
    },
    {
      "cell_type": "code",
      "source": [
        "# above we see that the 0 index space was changed to a 6 but the tuple failed - not mutable!\n",
        "# but... we can convert the list similar to the conversions we did like str and float to change data types\n",
        "print(type(atuple))\n",
        "print(type( list(atuple) ))"
      ],
      "metadata": {
        "colab": {
          "base_uri": "https://localhost:8080/"
        },
        "id": "yoyuTCQYWmA2",
        "outputId": "f88b2fe1-94fb-4ba4-e107-aadfa81a9ce3"
      },
      "execution_count": null,
      "outputs": [
        {
          "output_type": "stream",
          "name": "stdout",
          "text": [
            "<class 'tuple'>\n",
            "<class 'list'>\n"
          ]
        }
      ]
    },
    {
      "cell_type": "code",
      "source": [
        "# now lets create a new variable to execute the mutability of our new convert tuple --> a list\n",
        "newConvertedList = list(atuple)\n",
        "newConvertedList[0] = 7\n",
        "print(newConvertedList)"
      ],
      "metadata": {
        "colab": {
          "base_uri": "https://localhost:8080/"
        },
        "id": "IKw-U_NhcA0G",
        "outputId": "0426c3f6-54a2-443a-935e-f46d8bdd7081"
      },
      "execution_count": null,
      "outputs": [
        {
          "output_type": "stream",
          "name": "stdout",
          "text": [
            "[7, '4', 45]\n"
          ]
        }
      ]
    }
  ]
}