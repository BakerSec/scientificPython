{
  "nbformat": 4,
  "nbformat_minor": 0,
  "metadata": {
    "colab": {
      "provenance": [],
      "authorship_tag": "ABX9TyNWG4+GJJpR3NmrooVtQ34W",
      "include_colab_link": true
    },
    "kernelspec": {
      "name": "python3",
      "display_name": "Python 3"
    },
    "language_info": {
      "name": "python"
    }
  },
  "cells": [
    {
      "cell_type": "markdown",
      "metadata": {
        "id": "view-in-github",
        "colab_type": "text"
      },
      "source": [
        "<a href=\"https://colab.research.google.com/github/flowmasterB/scientificPython/blob/main/for_loops.ipynb\" target=\"_parent\"><img src=\"https://colab.research.google.com/assets/colab-badge.svg\" alt=\"Open In Colab\"/></a>"
      ]
    },
    {
      "cell_type": "code",
      "execution_count": 2,
      "metadata": {
        "colab": {
          "base_uri": "https://localhost:8080/"
        },
        "id": "CIA0DCRQk-_D",
        "outputId": "fe3b87a7-a064-4d3e-82ff-e7afd1db2cfe"
      },
      "outputs": [
        {
          "output_type": "stream",
          "name": "stdout",
          "text": [
            "0\n",
            "1\n",
            "2\n",
            "3\n",
            "4\n",
            "5\n"
          ]
        }
      ],
      "source": [
        "for i in range(6):\n",
        "  print(i)\n"
      ]
    },
    {
      "cell_type": "code",
      "source": [
        "for j in range(4, 10):\n",
        "  print(j, j**2)"
      ],
      "metadata": {
        "colab": {
          "base_uri": "https://localhost:8080/"
        },
        "id": "lbD-kQZJoWhQ",
        "outputId": "55f7d45a-25a6-4d9e-d179-56112581547c"
      },
      "execution_count": 5,
      "outputs": [
        {
          "output_type": "stream",
          "name": "stdout",
          "text": [
            "4 16\n",
            "5 25\n",
            "6 36\n",
            "7 49\n",
            "8 64\n",
            "9 81\n"
          ]
        }
      ]
    },
    {
      "cell_type": "code",
      "source": [
        "import numpy as np\n",
        "\n",
        "numbers = np.linspace(3,10,20)\n",
        "\n",
        "for k in range(len(numbers)):\n",
        "  x = numbers[k]\n",
        "  print('Iteration ' + str(k+1) + ' has a numbers value of ' + str(x))"
      ],
      "metadata": {
        "colab": {
          "base_uri": "https://localhost:8080/"
        },
        "id": "-0ZdPas0o87Q",
        "outputId": "466b89ab-bac3-4154-f952-b09b986cc609"
      },
      "execution_count": 16,
      "outputs": [
        {
          "output_type": "stream",
          "name": "stdout",
          "text": [
            "Iteration 1 has a numbers value of 3.0\n",
            "Iteration 2 has a numbers value of 3.3684210526315788\n",
            "Iteration 3 has a numbers value of 3.736842105263158\n",
            "Iteration 4 has a numbers value of 4.105263157894736\n",
            "Iteration 5 has a numbers value of 4.473684210526316\n",
            "Iteration 6 has a numbers value of 4.842105263157895\n",
            "Iteration 7 has a numbers value of 5.2105263157894735\n",
            "Iteration 8 has a numbers value of 5.578947368421053\n",
            "Iteration 9 has a numbers value of 5.947368421052632\n",
            "Iteration 10 has a numbers value of 6.315789473684211\n",
            "Iteration 11 has a numbers value of 6.684210526315789\n",
            "Iteration 12 has a numbers value of 7.052631578947368\n",
            "Iteration 13 has a numbers value of 7.421052631578947\n",
            "Iteration 14 has a numbers value of 7.789473684210526\n",
            "Iteration 15 has a numbers value of 8.157894736842106\n",
            "Iteration 16 has a numbers value of 8.526315789473685\n",
            "Iteration 17 has a numbers value of 8.894736842105264\n",
            "Iteration 18 has a numbers value of 9.263157894736842\n",
            "Iteration 19 has a numbers value of 9.631578947368421\n",
            "Iteration 20 has a numbers value of 10.0\n"
          ]
        }
      ]
    },
    {
      "cell_type": "code",
      "source": [
        "# soft vs hard coding\n",
        "\n",
        "# soft -- specify all parameters up top\n",
        "\n",
        "nIterations = 100\n",
        "\n",
        "for l in range(nIterations):\n",
        "  pass\n",
        "\n",
        "# 100's lines of code\n",
        "\n",
        "# for l in range(100): # manually specify parameters everytime run - hard\n",
        "# pass\n"
      ],
      "metadata": {
        "id": "X6VDRWHkpWLP"
      },
      "execution_count": 17,
      "outputs": []
    },
    {
      "cell_type": "code",
      "source": [
        "# % modulus -- remainder after division\n",
        "6%2"
      ],
      "metadata": {
        "colab": {
          "base_uri": "https://localhost:8080/"
        },
        "id": "riGDehGNrRih",
        "outputId": "c8fe384d-f428-4b05-eb92-bd33375cb1f8"
      },
      "execution_count": 19,
      "outputs": [
        {
          "output_type": "execute_result",
          "data": {
            "text/plain": [
              "0"
            ]
          },
          "metadata": {},
          "execution_count": 19
        }
      ]
    },
    {
      "cell_type": "code",
      "source": [
        "7%3"
      ],
      "metadata": {
        "colab": {
          "base_uri": "https://localhost:8080/"
        },
        "id": "HDVMog-qrXT8",
        "outputId": "29c6ffc6-4db4-4aa0-eb95-d64fdb94cf8e"
      },
      "execution_count": 20,
      "outputs": [
        {
          "output_type": "execute_result",
          "data": {
            "text/plain": [
              "1"
            ]
          },
          "metadata": {},
          "execution_count": 20
        }
      ]
    },
    {
      "cell_type": "code",
      "source": [
        "for m in range(18):\n",
        "  if m%2==0:\n",
        "    print(str(m) + ' is an even number.')\n",
        "  else:\n",
        "    print(str(m) + ' is an odd ball fer sure.')"
      ],
      "metadata": {
        "colab": {
          "base_uri": "https://localhost:8080/"
        },
        "id": "WdwqnxDurjGA",
        "outputId": "b8d111e8-f771-4942-dd4e-e5c860bfa2b3"
      },
      "execution_count": 23,
      "outputs": [
        {
          "output_type": "stream",
          "name": "stdout",
          "text": [
            "0 is an even number.\n",
            "1 is an odd ball fer sure.\n",
            "2 is an even number.\n",
            "3 is an odd ball fer sure.\n",
            "4 is an even number.\n",
            "5 is an odd ball fer sure.\n",
            "6 is an even number.\n",
            "7 is an odd ball fer sure.\n",
            "8 is an even number.\n",
            "9 is an odd ball fer sure.\n",
            "10 is an even number.\n",
            "11 is an odd ball fer sure.\n",
            "12 is an even number.\n",
            "13 is an odd ball fer sure.\n",
            "14 is an even number.\n",
            "15 is an odd ball fer sure.\n",
            "16 is an even number.\n",
            "17 is an odd ball fer sure.\n"
          ]
        }
      ]
    },
    {
      "cell_type": "code",
      "source": [
        "# create function that reports fibonacci series for n+3 numbers\n",
        "# fibonacci 0,1,1,2,3,5,8,13,21,...\n",
        "\n",
        "def fibonacci(n):\n",
        "  v = [0,1,1]\n",
        "  for f in range(n):\n",
        "    v.append(sum(v[-2:]))\n",
        "  return v"
      ],
      "metadata": {
        "id": "3gCIiwhrsSRN"
      },
      "execution_count": 28,
      "outputs": []
    },
    {
      "cell_type": "code",
      "source": [
        "fibonacci(10)"
      ],
      "metadata": {
        "colab": {
          "base_uri": "https://localhost:8080/"
        },
        "id": "KQVoiZliuV-p",
        "outputId": "6ef9b1b5-708a-4e4e-fd18-886ba6095a75"
      },
      "execution_count": 32,
      "outputs": [
        {
          "output_type": "execute_result",
          "data": {
            "text/plain": [
              "[0, 1, 1, 2, 3, 5, 8, 13, 21, 34, 55, 89, 144]"
            ]
          },
          "metadata": {},
          "execution_count": 32
        }
      ]
    },
    {
      "cell_type": "code",
      "source": [],
      "metadata": {
        "id": "MAtK2fI5uZ6P"
      },
      "execution_count": null,
      "outputs": []
    }
  ]
}