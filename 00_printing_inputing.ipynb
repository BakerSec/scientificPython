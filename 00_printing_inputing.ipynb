{
  "nbformat": 4,
  "nbformat_minor": 0,
  "metadata": {
    "colab": {
      "provenance": []
    },
    "kernelspec": {
      "name": "python3",
      "display_name": "Python 3"
    },
    "language_info": {
      "name": "python"
    }
  },
  "cells": [
    {
      "cell_type": "code",
      "execution_count": null,
      "metadata": {
        "colab": {
          "base_uri": "https://localhost:8080/"
        },
        "id": "RbAfvxG6w9GB",
        "outputId": "99e42a51-c61e-4b10-8ac5-e0a778463127"
      },
      "outputs": [
        {
          "output_type": "stream",
          "name": "stdout",
          "text": [
            "56 times 89 equals 145\n"
          ]
        }
      ],
      "source": [
        "x = 56\n",
        "y = 89\n",
        "\n",
        "print(str(x) + ' times ' + str(y) + ' equals ' + str(x+y))"
      ]
    },
    {
      "cell_type": "code",
      "source": [
        "ans =  input('Enter your name: ')\n",
        "\n",
        "ans = float(ans)\n",
        "\n",
        "print(ans)"
      ],
      "metadata": {
        "colab": {
          "base_uri": "https://localhost:8080/"
        },
        "id": "j4LRK0I90T1a",
        "outputId": "e9cd1413-32fa-4da5-c5b6-530c48f0e07d"
      },
      "execution_count": null,
      "outputs": [
        {
          "output_type": "stream",
          "name": "stdout",
          "text": [
            "Enter your name: 354.8\n",
            "354.8\n"
          ]
        }
      ]
    },
    {
      "cell_type": "code",
      "source": [
        "# Exercise\n",
        "# Pythagorean theorem: a**2 + b**2 = c**2\n",
        "# get two numbers from user\n",
        "# compute and print length of side c\n",
        "a = float(input('Please input length of a: '))\n",
        "b = float(input('Please input length of b: '))\n",
        "print('I will give you c')\n",
        "print( '')\n",
        "side3 = (a**2 + b**2)**(1/2)\n",
        "print( 'The length of c is: ' + str(side3))"
      ],
      "metadata": {
        "colab": {
          "base_uri": "https://localhost:8080/"
        },
        "id": "Dm0aqmUq7bJD",
        "outputId": "36855956-d270-40f9-8e7c-4726badebe57"
      },
      "execution_count": null,
      "outputs": [
        {
          "output_type": "stream",
          "name": "stdout",
          "text": [
            "Please input length of a: 3\n",
            "Please input length of b: 4\n",
            "I will give you c\n",
            "\n",
            "The length of c is: 5.0\n"
          ]
        }
      ]
    }
  ]
}