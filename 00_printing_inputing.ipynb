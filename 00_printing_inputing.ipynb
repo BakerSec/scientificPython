{
  "nbformat": 4,
  "nbformat_minor": 0,
  "metadata": {
    "colab": {
      "provenance": []
    },
    "kernelspec": {
      "name": "python3",
      "display_name": "Python 3"
    },
    "language_info": {
      "name": "python"
    }
  },
  "cells": [
{
      "cell_type": "markdown",
      "source": [
        "# I went through Mike Cohen's scientific python course\n",
        "# (modified from the original) and will walk you through it -- or you can sign up here:\n",
        "https://www.udemy.com/course/python-scientific-x/learn/lecture/21804570#overview"
      ],
      "metadata": {
        "id": "butgTQnJt86H"
      }
      },
    {
      "cell_type": "code",
      "execution_count": 1,
      "metadata": {
        "colab": {
          "base_uri": "https://localhost:8080/"
        },
        "id": "RbAfvxG6w9GB",
        "outputId": "80a1fe39-3b73-4a4a-f66a-418a47621e14"
      },
      "outputs": [
        {
          "output_type": "stream",
          "name": "stdout",
          "text": [
            "56 times 89 equals 145\n"
          ]
        }
      ],
      "source": [
        "# let's assign 2 variables to use for our example of printing\n",
        "x = 56\n",
        "y = 89\n",
        "\n",
        "print(str(x) + ' times ' + str(y) + ' equals ' + str(x+y))"
      ]
    },
    {
      "cell_type": "code",
      "source": [
        "# now let's do a user input example -- this will ask the user to input data\n",
        "\n",
        "ans =  input('Enter your name: ')\n",
        "\n",
        "ans = float(ans)\n",
        "\n",
        "print(ans) # the user entered a number instead of a string of characters\n",
        "\n",
        "type(ans)"
      ],
      "metadata": {
        "colab": {
          "base_uri": "https://localhost:8080/"
        },
        "id": "j4LRK0I90T1a",
        "outputId": "9c93a08d-9c82-4a7b-d8c7-303d0fd8371d"
      },
      "execution_count": 4,
      "outputs": [
        {
          "output_type": "stream",
          "name": "stdout",
          "text": [
            "Enter your name: 346\n",
            "346.0\n"
          ]
        },
        {
          "output_type": "execute_result",
          "data": {
            "text/plain": [
              "float"
            ]
          },
          "metadata": {},
          "execution_count": 4
        }
      ]
    },
    {
      "cell_type": "code",
      "source": [
        "# Exercise for inputing/printing -- try to do without looking at code!!! :-)\n",
        "# Pythagorean theorem: a**2 + b**2 = c**2\n",
        "# get two numbers from user\n",
        "# compute and print length of side c\n",
        "a = float(input('Please input length of a: '))\n",
        "b = float(input('Please input length of b: '))\n",
        "print('I will give you c')\n",
        "print( '')\n",
        "side3 = (a**2 + b**2)**(1/2)\n",
        "print( 'The length of c is: ' + str(side3))"
      ],
      "metadata": {
        "colab": {
          "base_uri": "https://localhost:8080/"
        },
        "id": "Dm0aqmUq7bJD",
        "outputId": "469e162a-4032-4669-b892-dafe5b5c8a06"
      },
      "execution_count": 3,
      "outputs": [
        {
          "output_type": "stream",
          "name": "stdout",
          "text": [
            "Please input length of a: 5\n",
            "Please input length of b: 8\n",
            "I will give you c\n",
            "\n",
            "The length of c is: 9.433981132056603\n"
          ]
        }
      ]
    }
  ]
}
