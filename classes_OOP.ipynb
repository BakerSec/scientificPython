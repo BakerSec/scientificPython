{
  "nbformat": 4,
  "nbformat_minor": 0,
  "metadata": {
    "colab": {
      "provenance": [],
      "authorship_tag": "ABX9TyMU8b2kjZuBWMPgLncu+san",
      "include_colab_link": true
    },
    "kernelspec": {
      "name": "python3",
      "display_name": "Python 3"
    },
    "language_info": {
      "name": "python"
    }
  },
  "cells": [
    {
      "cell_type": "markdown",
      "metadata": {
        "id": "view-in-github",
        "colab_type": "text"
      },
      "source": [
        "<a href=\"https://colab.research.google.com/github/flowmasterB/scientificPython/blob/main/classes_OOP.ipynb\" target=\"_parent\"><img src=\"https://colab.research.google.com/assets/colab-badge.svg\" alt=\"Open In Colab\"/></a>"
      ]
    },
    {
      "cell_type": "code",
      "execution_count": 20,
      "metadata": {
        "id": "6u27mxB5IDG6"
      },
      "outputs": [],
      "source": [
        "class Experiment(object):\n",
        "  # constructor method\n",
        "  def __init__(self,eType,dataN,status='ongoing'):\n",
        "    self.expType = eType\n",
        "    self.dataCount = dataN\n",
        "    self.expStatus = status\n",
        "\n",
        "  def increaseN(self, number):\n",
        "    self.dataCount += number\n",
        "\n",
        "  def changeExpStatus(self,status):\n",
        "    self.expStatus = status\n",
        "\n",
        "  def __str__(self):\n",
        "    return 'Experiment type: ' + self.expType + ' has ' + str(self.dataCount) + ' data points. '"
      ]
    },
    {
      "cell_type": "code",
      "source": [
        "myexperiment = Experiment('Brain --', 120)"
      ],
      "metadata": {
        "id": "TYsuR2nnJNfn"
      },
      "execution_count": 21,
      "outputs": []
    },
    {
      "cell_type": "code",
      "source": [
        "print(myexperiment)"
      ],
      "metadata": {
        "colab": {
          "base_uri": "https://localhost:8080/"
        },
        "id": "oyuBblMLJY9m",
        "outputId": "b8c02944-e271-492a-938d-180676c0cb92"
      },
      "execution_count": 22,
      "outputs": [
        {
          "output_type": "stream",
          "name": "stdout",
          "text": [
            "Experiment type: Brain -- has 120 data points. \n"
          ]
        }
      ]
    },
    {
      "cell_type": "code",
      "source": [],
      "metadata": {
        "id": "odeUIn3gJbtA"
      },
      "execution_count": null,
      "outputs": []
    }
  ]
}