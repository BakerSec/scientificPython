{
  "nbformat": 4,
  "nbformat_minor": 0,
  "metadata": {
    "colab": {
      "provenance": [],
      "authorship_tag": "ABX9TyNRvV7sr1crtfVzkd1rlF1A",
      "include_colab_link": true
    },
    "kernelspec": {
      "name": "python3",
      "display_name": "Python 3"
    },
    "language_info": {
      "name": "python"
    }
  },
  "cells": [
    {
      "cell_type": "markdown",
      "metadata": {
        "id": "view-in-github",
        "colab_type": "text"
      },
      "source": [
        "<a href=\"https://colab.research.google.com/github/flowmasterB/scientificPython/blob/main/creating_functions.ipynb\" target=\"_parent\"><img src=\"https://colab.research.google.com/assets/colab-badge.svg\" alt=\"Open In Colab\"/></a>"
      ]
    },
    {
      "cell_type": "code",
      "execution_count": 1,
      "metadata": {
        "id": "-INhuL-STO53"
      },
      "outputs": [],
      "source": [
        "def awesomeFunction():\n",
        "  print(1+1)"
      ]
    },
    {
      "cell_type": "code",
      "source": [
        "awesomeFunction()\n",
        "type(awesomeFunction)"
      ],
      "metadata": {
        "colab": {
          "base_uri": "https://localhost:8080/"
        },
        "id": "3VkEeTPqpZUM",
        "outputId": "19f7c2f9-bc93-48c1-e001-cf39b15c4bc0"
      },
      "execution_count": 3,
      "outputs": [
        {
          "output_type": "stream",
          "name": "stdout",
          "text": [
            "2\n"
          ]
        },
        {
          "output_type": "execute_result",
          "data": {
            "text/plain": [
              "function"
            ]
          },
          "metadata": {},
          "execution_count": 3
        }
      ]
    },
    {
      "cell_type": "code",
      "source": [
        "def superAwesomeFunction(input1,input2):\n",
        "  return input1 + input2\n",
        "\n",
        "superAwesomeFunction(4,8)"
      ],
      "metadata": {
        "colab": {
          "base_uri": "https://localhost:8080/"
        },
        "id": "V7S_fb3xpd8Q",
        "outputId": "70ff85a4-85da-4618-8aeb-4f1b3dae4522"
      },
      "execution_count": 5,
      "outputs": [
        {
          "output_type": "execute_result",
          "data": {
            "text/plain": [
              "12"
            ]
          },
          "metadata": {},
          "execution_count": 5
        }
      ]
    },
    {
      "cell_type": "code",
      "source": [
        "output = superAwesomeFunction(1,1)\n",
        "output"
      ],
      "metadata": {
        "colab": {
          "base_uri": "https://localhost:8080/"
        },
        "id": "SuIMfCKyp4nx",
        "outputId": "b1dcdc57-24ce-4ca7-9ddb-876715f54a0c"
      },
      "execution_count": 8,
      "outputs": [
        {
          "output_type": "execute_result",
          "data": {
            "text/plain": [
              "2"
            ]
          },
          "metadata": {},
          "execution_count": 8
        }
      ]
    },
    {
      "cell_type": "code",
      "source": [
        "def funfun(in1,in2):\n",
        "  sumres  = in1+in2\n",
        "  prodres = in1*in2\n",
        "  print('Their sume is ' + str(sumres))\n",
        "  print('Their product is ' + str(prodres))\n",
        "  return sumres, prodres"
      ],
      "metadata": {
        "id": "YAcQtnciqWMs"
      },
      "execution_count": 13,
      "outputs": []
    },
    {
      "cell_type": "code",
      "source": [
        "outS = funfun(4,4)\n",
        "\n",
        "print(outS)"
      ],
      "metadata": {
        "colab": {
          "base_uri": "https://localhost:8080/"
        },
        "id": "vIiQFXLcrhx3",
        "outputId": "170a1d9d-72fc-4bd8-a7e8-e80df379b53f"
      },
      "execution_count": 23,
      "outputs": [
        {
          "output_type": "stream",
          "name": "stdout",
          "text": [
            "Their sume is 8\n",
            "Their product is 16\n",
            "(8, 16)\n"
          ]
        }
      ]
    },
    {
      "cell_type": "code",
      "source": [
        "# lambda function  -- one liners\n",
        "littlefun = lambda x : x**2 -1 # has to be on one line\n",
        "-1 # this wont compute\n",
        "\n",
        "littlefun(4)"
      ],
      "metadata": {
        "colab": {
          "base_uri": "https://localhost:8080/"
        },
        "id": "mVKGooshsB5M",
        "outputId": "f7dc93e2-9389-49be-c7a8-2cfac9071162"
      },
      "execution_count": 26,
      "outputs": [
        {
          "output_type": "execute_result",
          "data": {
            "text/plain": [
              "15"
            ]
          },
          "metadata": {},
          "execution_count": 26
        }
      ]
    },
    {
      "cell_type": "code",
      "source": [
        "# factorial 5! = 5*4*3*2*1\n",
        "import numpy as np\n",
        "def myfactorial(val): # normally would make a check to validate int as input\n",
        "  return np.prod(np.arange(1, 1+val)) # cant start at 0 or ans is 0 need 1 & +1\n"
      ],
      "metadata": {
        "id": "NHC0p3AOtH3M"
      },
      "execution_count": 45,
      "outputs": []
    },
    {
      "cell_type": "code",
      "source": [
        "myfactorial(5)"
      ],
      "metadata": {
        "colab": {
          "base_uri": "https://localhost:8080/"
        },
        "id": "94G0gpWXtrse",
        "outputId": "cd26dff0-7189-4331-b23e-da36bf6d2eb7"
      },
      "execution_count": 46,
      "outputs": [
        {
          "output_type": "execute_result",
          "data": {
            "text/plain": [
              "120"
            ]
          },
          "metadata": {},
          "execution_count": 46
        }
      ]
    },
    {
      "cell_type": "code",
      "source": [
        "import math\n",
        "\n",
        "k= 15\n",
        "print(math.factorial(k), myfactorial(k))"
      ],
      "metadata": {
        "colab": {
          "base_uri": "https://localhost:8080/"
        },
        "id": "X8dQRmamCUBi",
        "outputId": "52a1de01-0612-4f9f-9547-84a6c05cda3f"
      },
      "execution_count": 50,
      "outputs": [
        {
          "output_type": "stream",
          "name": "stdout",
          "text": [
            "1307674368000 1307674368000\n"
          ]
        }
      ]
    },
    {
      "cell_type": "code",
      "source": [],
      "metadata": {
        "id": "ysel2UojDxvt"
      },
      "execution_count": null,
      "outputs": []
    }
  ]
}