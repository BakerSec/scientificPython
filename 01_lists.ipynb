{
  "nbformat": 4,
  "nbformat_minor": 0,
  "metadata": {
    "colab": {
      "provenance": []
    },
    "kernelspec": {
      "name": "python3",
      "display_name": "Python 3"
    },
    "language_info": {
      "name": "python"
    }
  },
  "cells": [
    {
      "cell_type": "code",
      "source": [
        "aList = [ 0,1,2,3,4,5 ]\n",
        "\n",
        "4 in aList"
      ],
      "metadata": {
        "colab": {
          "base_uri": "https://localhost:8080/"
        },
        "id": "x8_Zm-RSLAoY",
        "outputId": "af242d3a-04fe-42e2-99a3-d6cab1005e1c"
      },
      "execution_count": null,
      "outputs": [
        {
          "output_type": "execute_result",
          "data": {
            "text/plain": [
              "True"
            ]
          },
          "metadata": {},
          "execution_count": 37
        }
      ]
    },
    {
      "cell_type": "code",
      "source": [
        "strList = [ 'hi', 'my', 'name', 'is', 'flowmasterB' ]\n",
        "'flowmasterB' in strList"
      ],
      "metadata": {
        "colab": {
          "base_uri": "https://localhost:8080/"
        },
        "id": "dCSk4gGHOGP9",
        "outputId": "9bdb4c92-0ed7-46d1-8174-a5b79338888f"
      },
      "execution_count": null,
      "outputs": [
        {
          "output_type": "execute_result",
          "data": {
            "text/plain": [
              "True"
            ]
          },
          "metadata": {},
          "execution_count": 38
        }
      ]
    },
    {
      "cell_type": "code",
      "source": [
        "mixList = [ 3.5, 'hello', '7', 7, 7.0 ]\n",
        "%whos"
      ],
      "metadata": {
        "colab": {
          "base_uri": "https://localhost:8080/"
        },
        "id": "deJ0IqgsMrwu",
        "outputId": "3fb6fba2-d383-4d7a-d0e2-dbb1421390b8"
      },
      "execution_count": null,
      "outputs": [
        {
          "output_type": "stream",
          "name": "stdout",
          "text": [
            "Variable    Type                    Data/Info\n",
            "---------------------------------------------\n",
            "Counter     _SpecialGenericAlias    typing.Counter\n",
            "aList       list                    n=6\n",
            "comboList   list                    n=10\n",
            "listList    list                    n=5\n",
            "mixList     list                    n=5\n",
            "strList     list                    n=5\n"
          ]
        }
      ]
    },
    {
      "cell_type": "code",
      "source": [
        "listList = [ aList, strList, [ 4, 5, '6'], 8, 9 ]"
      ],
      "metadata": {
        "id": "6Ajb5y8xMzZI"
      },
      "execution_count": null,
      "outputs": []
    },
    {
      "cell_type": "code",
      "source": [
        "comboList = listList + strList"
      ],
      "metadata": {
        "id": "rzhIo_jnNK34"
      },
      "execution_count": null,
      "outputs": []
    },
    {
      "cell_type": "code",
      "source": [
        "'flowmasterB' in comboList"
      ],
      "metadata": {
        "colab": {
          "base_uri": "https://localhost:8080/"
        },
        "id": "VrMZlGX8NNbj",
        "outputId": "41915394-b764-4ae1-e3ce-28398c8f9277"
      },
      "execution_count": null,
      "outputs": [
        {
          "output_type": "execute_result",
          "data": {
            "text/plain": [
              "True"
            ]
          },
          "metadata": {},
          "execution_count": 42
        }
      ]
    },
    {
      "cell_type": "code",
      "source": [
        "comboList"
      ],
      "metadata": {
        "colab": {
          "base_uri": "https://localhost:8080/"
        },
        "id": "XpCpYpMSOt74",
        "outputId": "381793a1-ab67-4a64-c39b-a46e886d5606"
      },
      "execution_count": null,
      "outputs": [
        {
          "output_type": "execute_result",
          "data": {
            "text/plain": [
              "[[0, 1, 2, 3, 4, 5],\n",
              " ['hi', 'my', 'name', 'is', 'flowmasterB'],\n",
              " [4, 5, '6'],\n",
              " 8,\n",
              " 9,\n",
              " 'hi',\n",
              " 'my',\n",
              " 'name',\n",
              " 'is',\n",
              " 'flowmasterB']"
            ]
          },
          "metadata": {},
          "execution_count": 44
        }
      ]
    },
    {
      "cell_type": "code",
      "source": [
        "aList*3"
      ],
      "metadata": {
        "colab": {
          "base_uri": "https://localhost:8080/"
        },
        "id": "X0Jfktf1QQd3",
        "outputId": "d90ad51f-ebac-4a8c-a75e-575ca95ce4ee"
      },
      "execution_count": null,
      "outputs": [
        {
          "output_type": "execute_result",
          "data": {
            "text/plain": [
              "[0, 1, 2, 3, 4, 5, 0, 1, 2, 3, 4, 5, 0, 1, 2, 3, 4, 5]"
            ]
          },
          "metadata": {},
          "execution_count": 50
        }
      ]
    },
    {
      "cell_type": "code",
      "source": [
        "# Method like a function and can add to variable\n",
        "print(aList)\n",
        "\n",
        "aList.append(+100) # I ran -100 3 times and +100 6 times -- you can see the results added to the end each time run\n",
        "print(aList)\n",
        "\n",
        "# sorting\n",
        "aList.sort()\n",
        "print(aList)"
      ],
      "metadata": {
        "colab": {
          "base_uri": "https://localhost:8080/"
        },
        "id": "nUm6QNyQQSgT",
        "outputId": "0756e249-201d-4c20-cb3a-9bf82d2fa986"
      },
      "execution_count": null,
      "outputs": [
        {
          "output_type": "stream",
          "name": "stdout",
          "text": [
            "[100, 100, 100, 100, 100, 100, 100, 100, 5, 4, 3, 2, 1, 0, -100, -100, -100]\n",
            "[100, 100, 100, 100, 100, 100, 100, 100, 5, 4, 3, 2, 1, 0, -100, -100, -100, 100]\n",
            "[-100, -100, -100, 0, 1, 2, 3, 4, 5, 100, 100, 100, 100, 100, 100, 100, 100, 100]\n"
          ]
        }
      ]
    },
    {
      "cell_type": "code",
      "source": [
        "# count the number of 7s int the newList\n",
        "newList = [ 3,7,7,7,7,7,5,6,8,676,67,7,7,7,2,3,3 ]"
      ],
      "metadata": {
        "id": "2LF5-LAVSp4p"
      },
      "execution_count": null,
      "outputs": []
    },
    {
      "cell_type": "code",
      "source": [
        "# count the instance of just ,7, not 676 or 67 it won't count those 7s\n",
        "newList.count(7)"
      ],
      "metadata": {
        "colab": {
          "base_uri": "https://localhost:8080/"
        },
        "id": "7tLnAOp-TmZn",
        "outputId": "34337d40-776e-4886-ef3d-82106be75df8"
      },
      "execution_count": null,
      "outputs": [
        {
          "output_type": "execute_result",
          "data": {
            "text/plain": [
              "8"
            ]
          },
          "metadata": {},
          "execution_count": 64
        }
      ]
    },
    {
      "cell_type": "code",
      "source": [],
      "metadata": {
        "id": "WVI-ZbDDTprC"
      },
      "execution_count": null,
      "outputs": []
    }
  ]
}