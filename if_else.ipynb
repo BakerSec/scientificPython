{
  "nbformat": 4,
  "nbformat_minor": 0,
  "metadata": {
    "colab": {
      "provenance": [],
      "authorship_tag": "ABX9TyNVgktkrAVR4aVvV0yqx95q",
      "include_colab_link": true
    },
    "kernelspec": {
      "name": "python3",
      "display_name": "Python 3"
    },
    "language_info": {
      "name": "python"
    }
  },
  "cells": [
    {
      "cell_type": "markdown",
      "metadata": {
        "id": "view-in-github",
        "colab_type": "text"
      },
      "source": [
        "<a href=\"https://colab.research.google.com/github/flowmasterB/scientificPython/blob/main/if_else.ipynb\" target=\"_parent\"><img src=\"https://colab.research.google.com/assets/colab-badge.svg\" alt=\"Open In Colab\"/></a>"
      ]
    },
    {
      "cell_type": "code",
      "execution_count": 184,
      "metadata": {
        "colab": {
          "base_uri": "https://localhost:8080/"
        },
        "id": "UR0SQa_ET0Sx",
        "outputId": "bfe22a6c-5e46-4460-8bb2-bf8a3f4b63de"
      },
      "outputs": [
        {
          "output_type": "stream",
          "name": "stdout",
          "text": [
            "True is True\n"
          ]
        }
      ],
      "source": [
        "#if-else\n",
        "\n",
        "if True:\n",
        "  print('True is True')"
      ]
    },
    {
      "cell_type": "code",
      "source": [
        "if False:\n",
        "  print('True is False')"
      ],
      "metadata": {
        "id": "WEGVyhbPU3Aq"
      },
      "execution_count": 185,
      "outputs": []
    },
    {
      "cell_type": "code",
      "source": [
        "if 4==4:\n",
        "  print('hello')"
      ],
      "metadata": {
        "colab": {
          "base_uri": "https://localhost:8080/"
        },
        "id": "eeqxMfgCVDDP",
        "outputId": "03507a96-3987-4804-e522-6c3c1bef812d"
      },
      "execution_count": 186,
      "outputs": [
        {
          "output_type": "stream",
          "name": "stdout",
          "text": [
            "hello\n"
          ]
        }
      ]
    },
    {
      "cell_type": "code",
      "source": [
        "import numpy as np\n",
        "\n",
        "randnum = np.random.randn()\n",
        "\n",
        "if randnum>0:\n",
        "  print('positive')\n",
        "else:\n",
        "  print('negative')\n",
        "\n",
        "print(randnum)"
      ],
      "metadata": {
        "colab": {
          "base_uri": "https://localhost:8080/"
        },
        "id": "1tyVVsIzVH4C",
        "outputId": "888e6892-8e40-49b5-9149-cc24e0994b14"
      },
      "execution_count": 187,
      "outputs": [
        {
          "output_type": "stream",
          "name": "stdout",
          "text": [
            "negative\n",
            "-0.1637815214570005\n"
          ]
        }
      ]
    },
    {
      "cell_type": "code",
      "source": [
        "caketype = 'toe jam'\n",
        "\n",
        "if caketype=='carrot':\n",
        "  print('Total yumminess!')\n",
        "elif caketype=='chocolate':\n",
        "  print(\"That's good\")\n",
        "elif caketype=='toe jam':\n",
        "  print(\"gross dude, or hmm...maybe? like ew\")\n",
        "else:\n",
        "  print(\"Huh?\")"
      ],
      "metadata": {
        "colab": {
          "base_uri": "https://localhost:8080/"
        },
        "id": "__ym04hcYnFz",
        "outputId": "453c1c8a-4685-4722-f3a6-743a98fd7bb7"
      },
      "execution_count": 188,
      "outputs": [
        {
          "output_type": "stream",
          "name": "stdout",
          "text": [
            "gross dude, or hmm...maybe? like ew\n"
          ]
        }
      ]
    },
    {
      "cell_type": "code",
      "source": [
        "# one line if\n",
        "caketypeFirstLetter = 's'\n",
        "\n",
        "# if caketypeFirstLetter[0].lower()=='c': print('carrot or chocolate, cherry?')\n",
        "\n",
        "print('carrot, cheese, chocolate, or cherry? Cuz, there is nothing else...no matter the letter') \\\n",
        "if caketypeFirstLetter[0].lower()=='c' else print(\"don't want it\")"
      ],
      "metadata": {
        "colab": {
          "base_uri": "https://localhost:8080/"
        },
        "id": "Mb_h7efsZ0Nx",
        "outputId": "5d176e66-a992-4e63-b814-41be8ca5e4e6"
      },
      "execution_count": 189,
      "outputs": [
        {
          "output_type": "stream",
          "name": "stdout",
          "text": [
            "don't want it\n"
          ]
        }
      ]
    },
    {
      "cell_type": "code",
      "source": [
        "# conjuntive conditional\n",
        "if 1<3 and 4==4:\n",
        "  print('both are true')"
      ],
      "metadata": {
        "colab": {
          "base_uri": "https://localhost:8080/"
        },
        "id": "-hKHsqQgdX0b",
        "outputId": "ad7e2992-5167-47e7-d60c-f4509f24b25e"
      },
      "execution_count": 190,
      "outputs": [
        {
          "output_type": "stream",
          "name": "stdout",
          "text": [
            "both are true\n"
          ]
        }
      ]
    },
    {
      "cell_type": "code",
      "source": [
        "if 10<3 or 4==4:\n",
        "  print('one is true')"
      ],
      "metadata": {
        "colab": {
          "base_uri": "https://localhost:8080/"
        },
        "id": "n5DHtNnMeBlX",
        "outputId": "51e89476-11ac-4db1-dd61-e40bea8febc3"
      },
      "execution_count": 191,
      "outputs": [
        {
          "output_type": "stream",
          "name": "stdout",
          "text": [
            "one is true\n"
          ]
        }
      ]
    },
    {
      "cell_type": "code",
      "source": [
        "import numpy as np\n",
        "\n",
        "def dotProd(in1, in2):\n",
        "  if not (isinstance(in1,np.ndarray) and isinstance(in2,np.ndarray)):\n",
        "    raise Exception('Must be numpy array')\n",
        "\n",
        "  if not len(in1)==len(in2):\n",
        "    raise Exception('Must have same length')\n",
        "\n",
        "  return sum(in1*in2)"
      ],
      "metadata": {
        "id": "eXDwzKineLRd"
      },
      "execution_count": 218,
      "outputs": []
    },
    {
      "cell_type": "code",
      "source": [
        "v = np.array([1,2,3,4,8])\n",
        "w = 7\n",
        "x = np.array([3,5,6,7,4])\n",
        "\n",
        "dotProd(v, x)"
      ],
      "metadata": {
        "colab": {
          "base_uri": "https://localhost:8080/"
        },
        "id": "q1KcrJehgveU",
        "outputId": "a6c80cc4-a98f-4800-a911-1ea50999a932"
      },
      "execution_count": 219,
      "outputs": [
        {
          "output_type": "execute_result",
          "data": {
            "text/plain": [
              "91"
            ]
          },
          "metadata": {},
          "execution_count": 219
        }
      ]
    },
    {
      "cell_type": "code",
      "source": [],
      "metadata": {
        "id": "PCuSbO-3jyZ3"
      },
      "execution_count": null,
      "outputs": []
    }
  ]
}